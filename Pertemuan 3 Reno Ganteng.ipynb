{
 "cells": [
  {
   "cell_type": "markdown",
   "metadata": {},
   "source": [
    "# PERTEMUAN 3"
   ]
  },
  {
   "cell_type": "code",
   "execution_count": 19,
   "metadata": {},
   "outputs": [
    {
     "name": "stdout",
     "output_type": "stream",
     "text": [
      "halo, reno ganteng\n",
      "Umur Anda: 18\n",
      "ipk Anda:  4.0\n"
     ]
    }
   ],
   "source": [
    "# contoh input stering\n",
    "nama = input(\"Masukkan nama Anda: \")\n",
    "print(\"halo,\", nama)\n",
    "\n",
    "# contoh input integer\n",
    "umur = int(input(\"Masukkan umur: \"))\n",
    "print(\"Umur Anda:\" ,umur)\n",
    "\n",
    "# contoh input float\n",
    "ipk = float(input(\"Masukkan ipk: \"))\n",
    "print(\"ipk Anda: \",ipk)"
   ]
  },
  {
   "cell_type": "markdown",
   "metadata": {},
   "source": [
    "# Contoh Input Yang Di Pisahkan Spasi"
   ]
  },
  {
   "cell_type": "code",
   "execution_count": 10,
   "metadata": {},
   "outputs": [
    {
     "name": "stdout",
     "output_type": "stream",
     "text": [
      "bilangan pertama: 4\n",
      "bilangan kedua 5\n"
     ]
    }
   ],
   "source": [
    "bil = input(\"Masukkan dua bilangan bulat dipisahkan oleh spasi: \")\n",
    "# membagi variable bil menjadi variable bil1 dan bil2\n",
    "bil1, bil2 = map(int, bil.split())\n",
    "print(\"bilangan pertama:\", bil1)\n",
    "print(\"bilangan kedua\", bil2)"
   ]
  },
  {
   "cell_type": "markdown",
   "metadata": {},
   "source": [
    "# Macam-macam Jenis Output Pada Python"
   ]
  },
  {
   "cell_type": "code",
   "execution_count": 20,
   "metadata": {},
   "outputs": [
    {
     "name": "stdout",
     "output_type": "stream",
     "text": [
      "hallo reno ganteng umur anda: 18 IPK anda 4.0\n",
      "hallo reno ganteng, umur anda: 18 IPK anda: 4.0\n",
      "hallo reno ganteng, umur anda: 18, IPK anda: 4.0\n",
      "hallo reno ganteng, umur anda: 18, IPK anda: 4.0\n"
     ]
    }
   ],
   "source": [
    "print(\"hallo\", nama, \"umur anda:\", umur, \"IPK anda\", ipk)\n",
    " \n",
    "print(\"hallo \"+ nama+ \", umur anda:\", umur, \"IPK anda:\", ipk)\n",
    "\n",
    "print(\"hallo %s, umur anda: %i, IPK anda: %.1f\" % (nama, umur, ipk))\n",
    "\n",
    "print(f\"hallo {nama}, umur anda: {umur}, IPK anda: {ipk}\")"
   ]
  },
  {
   "cell_type": "markdown",
   "metadata": {},
   "source": [
    "# Stuktur Runtunan"
   ]
  },
  {
   "cell_type": "code",
   "execution_count": 21,
   "metadata": {},
   "outputs": [
    {
     "name": "stdout",
     "output_type": "stream",
     "text": [
      "pi = 3.14\n",
      "jari-jari = 90\n",
      "luas lingkaran = 25457.14\n"
     ]
    }
   ],
   "source": [
    "# input\n",
    "pi = 22/7\n",
    "r = int(input(\"jari-jari = \"))\n",
    "\n",
    "# Proses menghitung luas lingkaran\n",
    "luas = pi * r * r\n",
    "\n",
    "# output luas lingkaran\n",
    "print(\"pi = %.2f\" %pi)\n",
    "print(\"jari-jari =\", r)\n",
    "print(\"luas lingkaran = %.2f\" %(luas))"
   ]
  }
 ],
 "metadata": {
  "kernelspec": {
   "display_name": "Python 3",
   "language": "python",
   "name": "python3"
  },
  "language_info": {
   "codemirror_mode": {
    "name": "ipython",
    "version": 3
   },
   "file_extension": ".py",
   "mimetype": "text/x-python",
   "name": "python",
   "nbconvert_exporter": "python",
   "pygments_lexer": "ipython3",
   "version": "3.12.2"
  }
 },
 "nbformat": 4,
 "nbformat_minor": 2
}
